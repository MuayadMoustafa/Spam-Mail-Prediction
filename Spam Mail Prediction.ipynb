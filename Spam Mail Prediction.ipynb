{
 "cells": [
  {
   "cell_type": "code",
   "execution_count": 1,
   "id": "166a176e",
   "metadata": {
    "ExecuteTime": {
     "end_time": "2022-12-28T11:08:24.912204Z",
     "start_time": "2022-12-28T11:08:07.713928Z"
    }
   },
   "outputs": [],
   "source": [
    "import pandas as pd\n",
    "import numpy as np\n",
    "import seaborn as sns\n",
    "from matplotlib import pyplot as plt\n",
    "from sklearn.preprocessing import StandardScaler\n",
    "from sklearn.model_selection import train_test_split\n",
    "from sklearn.tree import DecisionTreeClassifier\n",
    "from sklearn.metrics import accuracy_score\n",
    "from sklearn.svm import SVC\n",
    "from sklearn.linear_model import LogisticRegression\n",
    "from sklearn import neighbors\n",
    "from sklearn.ensemble import RandomForestClassifier\n",
    "from sklearn.model_selection import cross_val_score\n",
    "from sklearn.metrics import f1_score\n",
    "from sklearn.metrics import confusion_matrix\n",
    "from sklearn.tree import DecisionTreeClassifier\n",
    "from sklearn.preprocessing import LabelEncoder\n",
    "from sklearn.feature_extraction.text import TfidfVectorizer"
   ]
  },
  {
   "cell_type": "code",
   "execution_count": 2,
   "id": "ce4b6a2f",
   "metadata": {
    "ExecuteTime": {
     "end_time": "2022-12-28T11:08:29.304065Z",
     "start_time": "2022-12-28T11:08:29.090053Z"
    }
   },
   "outputs": [
    {
     "data": {
      "text/html": [
       "<div>\n",
       "<style scoped>\n",
       "    .dataframe tbody tr th:only-of-type {\n",
       "        vertical-align: middle;\n",
       "    }\n",
       "\n",
       "    .dataframe tbody tr th {\n",
       "        vertical-align: top;\n",
       "    }\n",
       "\n",
       "    .dataframe thead th {\n",
       "        text-align: right;\n",
       "    }\n",
       "</style>\n",
       "<table border=\"1\" class=\"dataframe\">\n",
       "  <thead>\n",
       "    <tr style=\"text-align: right;\">\n",
       "      <th></th>\n",
       "      <th>Category</th>\n",
       "      <th>Message</th>\n",
       "    </tr>\n",
       "  </thead>\n",
       "  <tbody>\n",
       "    <tr>\n",
       "      <th>0</th>\n",
       "      <td>ham</td>\n",
       "      <td>Go until jurong point, crazy.. Available only ...</td>\n",
       "    </tr>\n",
       "    <tr>\n",
       "      <th>1</th>\n",
       "      <td>ham</td>\n",
       "      <td>Ok lar... Joking wif u oni...</td>\n",
       "    </tr>\n",
       "    <tr>\n",
       "      <th>2</th>\n",
       "      <td>spam</td>\n",
       "      <td>Free entry in 2 a wkly comp to win FA Cup fina...</td>\n",
       "    </tr>\n",
       "    <tr>\n",
       "      <th>3</th>\n",
       "      <td>ham</td>\n",
       "      <td>U dun say so early hor... U c already then say...</td>\n",
       "    </tr>\n",
       "    <tr>\n",
       "      <th>4</th>\n",
       "      <td>ham</td>\n",
       "      <td>Nah I don't think he goes to usf, he lives aro...</td>\n",
       "    </tr>\n",
       "    <tr>\n",
       "      <th>...</th>\n",
       "      <td>...</td>\n",
       "      <td>...</td>\n",
       "    </tr>\n",
       "    <tr>\n",
       "      <th>5567</th>\n",
       "      <td>spam</td>\n",
       "      <td>This is the 2nd time we have tried 2 contact u...</td>\n",
       "    </tr>\n",
       "    <tr>\n",
       "      <th>5568</th>\n",
       "      <td>ham</td>\n",
       "      <td>Will ü b going to esplanade fr home?</td>\n",
       "    </tr>\n",
       "    <tr>\n",
       "      <th>5569</th>\n",
       "      <td>ham</td>\n",
       "      <td>Pity, * was in mood for that. So...any other s...</td>\n",
       "    </tr>\n",
       "    <tr>\n",
       "      <th>5570</th>\n",
       "      <td>ham</td>\n",
       "      <td>The guy did some bitching but I acted like i'd...</td>\n",
       "    </tr>\n",
       "    <tr>\n",
       "      <th>5571</th>\n",
       "      <td>ham</td>\n",
       "      <td>Rofl. Its true to its name</td>\n",
       "    </tr>\n",
       "  </tbody>\n",
       "</table>\n",
       "<p>5572 rows × 2 columns</p>\n",
       "</div>"
      ],
      "text/plain": [
       "     Category                                            Message\n",
       "0         ham  Go until jurong point, crazy.. Available only ...\n",
       "1         ham                      Ok lar... Joking wif u oni...\n",
       "2        spam  Free entry in 2 a wkly comp to win FA Cup fina...\n",
       "3         ham  U dun say so early hor... U c already then say...\n",
       "4         ham  Nah I don't think he goes to usf, he lives aro...\n",
       "...       ...                                                ...\n",
       "5567     spam  This is the 2nd time we have tried 2 contact u...\n",
       "5568      ham               Will ü b going to esplanade fr home?\n",
       "5569      ham  Pity, * was in mood for that. So...any other s...\n",
       "5570      ham  The guy did some bitching but I acted like i'd...\n",
       "5571      ham                         Rofl. Its true to its name\n",
       "\n",
       "[5572 rows x 2 columns]"
      ]
     },
     "execution_count": 2,
     "metadata": {},
     "output_type": "execute_result"
    }
   ],
   "source": [
    "df = pd.read_csv('data/Machine_Learning_Projects-main/Mail spam prediction/mail_data - mail_data.csv')\n",
    "df "
   ]
  },
  {
   "cell_type": "code",
   "execution_count": 3,
   "id": "40d035ab",
   "metadata": {
    "ExecuteTime": {
     "end_time": "2022-12-27T15:22:31.052522Z",
     "start_time": "2022-12-27T15:22:31.023523Z"
    }
   },
   "outputs": [
    {
     "data": {
      "text/html": [
       "<div>\n",
       "<style scoped>\n",
       "    .dataframe tbody tr th:only-of-type {\n",
       "        vertical-align: middle;\n",
       "    }\n",
       "\n",
       "    .dataframe tbody tr th {\n",
       "        vertical-align: top;\n",
       "    }\n",
       "\n",
       "    .dataframe thead th {\n",
       "        text-align: right;\n",
       "    }\n",
       "</style>\n",
       "<table border=\"1\" class=\"dataframe\">\n",
       "  <thead>\n",
       "    <tr style=\"text-align: right;\">\n",
       "      <th></th>\n",
       "      <th>Category</th>\n",
       "      <th>Message</th>\n",
       "    </tr>\n",
       "  </thead>\n",
       "  <tbody>\n",
       "    <tr>\n",
       "      <th>count</th>\n",
       "      <td>5572</td>\n",
       "      <td>5572</td>\n",
       "    </tr>\n",
       "    <tr>\n",
       "      <th>unique</th>\n",
       "      <td>2</td>\n",
       "      <td>5157</td>\n",
       "    </tr>\n",
       "    <tr>\n",
       "      <th>top</th>\n",
       "      <td>ham</td>\n",
       "      <td>Sorry, I'll call later</td>\n",
       "    </tr>\n",
       "    <tr>\n",
       "      <th>freq</th>\n",
       "      <td>4825</td>\n",
       "      <td>30</td>\n",
       "    </tr>\n",
       "  </tbody>\n",
       "</table>\n",
       "</div>"
      ],
      "text/plain": [
       "       Category                 Message\n",
       "count      5572                    5572\n",
       "unique        2                    5157\n",
       "top         ham  Sorry, I'll call later\n",
       "freq       4825                      30"
      ]
     },
     "execution_count": 3,
     "metadata": {},
     "output_type": "execute_result"
    }
   ],
   "source": [
    "df.describe()"
   ]
  },
  {
   "cell_type": "code",
   "execution_count": 4,
   "id": "7124cd5a",
   "metadata": {
    "ExecuteTime": {
     "end_time": "2022-12-27T15:22:52.274668Z",
     "start_time": "2022-12-27T15:22:52.247666Z"
    }
   },
   "outputs": [
    {
     "name": "stdout",
     "output_type": "stream",
     "text": [
      "<class 'pandas.core.frame.DataFrame'>\n",
      "RangeIndex: 5572 entries, 0 to 5571\n",
      "Data columns (total 2 columns):\n",
      " #   Column    Non-Null Count  Dtype \n",
      "---  ------    --------------  ----- \n",
      " 0   Category  5572 non-null   object\n",
      " 1   Message   5572 non-null   object\n",
      "dtypes: object(2)\n",
      "memory usage: 87.2+ KB\n"
     ]
    }
   ],
   "source": [
    "df.info()"
   ]
  },
  {
   "cell_type": "code",
   "execution_count": 5,
   "id": "ab75d01e",
   "metadata": {
    "ExecuteTime": {
     "end_time": "2022-12-27T15:23:25.400517Z",
     "start_time": "2022-12-27T15:23:25.369519Z"
    }
   },
   "outputs": [
    {
     "data": {
      "text/html": [
       "<div>\n",
       "<style scoped>\n",
       "    .dataframe tbody tr th:only-of-type {\n",
       "        vertical-align: middle;\n",
       "    }\n",
       "\n",
       "    .dataframe tbody tr th {\n",
       "        vertical-align: top;\n",
       "    }\n",
       "\n",
       "    .dataframe thead th {\n",
       "        text-align: right;\n",
       "    }\n",
       "</style>\n",
       "<table border=\"1\" class=\"dataframe\">\n",
       "  <thead>\n",
       "    <tr style=\"text-align: right;\">\n",
       "      <th></th>\n",
       "      <th>Category</th>\n",
       "      <th>Message</th>\n",
       "    </tr>\n",
       "  </thead>\n",
       "  <tbody>\n",
       "    <tr>\n",
       "      <th>0</th>\n",
       "      <td>False</td>\n",
       "      <td>False</td>\n",
       "    </tr>\n",
       "    <tr>\n",
       "      <th>1</th>\n",
       "      <td>False</td>\n",
       "      <td>False</td>\n",
       "    </tr>\n",
       "    <tr>\n",
       "      <th>2</th>\n",
       "      <td>False</td>\n",
       "      <td>False</td>\n",
       "    </tr>\n",
       "    <tr>\n",
       "      <th>3</th>\n",
       "      <td>False</td>\n",
       "      <td>False</td>\n",
       "    </tr>\n",
       "    <tr>\n",
       "      <th>4</th>\n",
       "      <td>False</td>\n",
       "      <td>False</td>\n",
       "    </tr>\n",
       "    <tr>\n",
       "      <th>...</th>\n",
       "      <td>...</td>\n",
       "      <td>...</td>\n",
       "    </tr>\n",
       "    <tr>\n",
       "      <th>5567</th>\n",
       "      <td>False</td>\n",
       "      <td>False</td>\n",
       "    </tr>\n",
       "    <tr>\n",
       "      <th>5568</th>\n",
       "      <td>False</td>\n",
       "      <td>False</td>\n",
       "    </tr>\n",
       "    <tr>\n",
       "      <th>5569</th>\n",
       "      <td>False</td>\n",
       "      <td>False</td>\n",
       "    </tr>\n",
       "    <tr>\n",
       "      <th>5570</th>\n",
       "      <td>False</td>\n",
       "      <td>False</td>\n",
       "    </tr>\n",
       "    <tr>\n",
       "      <th>5571</th>\n",
       "      <td>False</td>\n",
       "      <td>False</td>\n",
       "    </tr>\n",
       "  </tbody>\n",
       "</table>\n",
       "<p>5572 rows × 2 columns</p>\n",
       "</div>"
      ],
      "text/plain": [
       "      Category  Message\n",
       "0        False    False\n",
       "1        False    False\n",
       "2        False    False\n",
       "3        False    False\n",
       "4        False    False\n",
       "...        ...      ...\n",
       "5567     False    False\n",
       "5568     False    False\n",
       "5569     False    False\n",
       "5570     False    False\n",
       "5571     False    False\n",
       "\n",
       "[5572 rows x 2 columns]"
      ]
     },
     "execution_count": 5,
     "metadata": {},
     "output_type": "execute_result"
    }
   ],
   "source": [
    "df.isnull()"
   ]
  },
  {
   "cell_type": "code",
   "execution_count": 6,
   "id": "68f8ccc1",
   "metadata": {
    "ExecuteTime": {
     "end_time": "2022-12-27T15:23:41.936125Z",
     "start_time": "2022-12-27T15:23:41.719124Z"
    }
   },
   "outputs": [
    {
     "data": {
      "text/plain": [
       "<AxesSubplot:xlabel='Category', ylabel='count'>"
      ]
     },
     "execution_count": 6,
     "metadata": {},
     "output_type": "execute_result"
    },
    {
     "data": {
      "image/png": "[encoded data removed]",
      "text/plain": [
       "<Figure size 640x480 with 1 Axes>"
      ]
     },
     "metadata": {},
     "output_type": "display_data"
    }
   ],
   "source": [
    "sns.countplot(x='Category', data=df)"
   ]
  },
  {
   "cell_type": "code",
   "execution_count": 7,
   "id": "7ac70b1e",
   "metadata": {
    "ExecuteTime": {
     "end_time": "2022-12-27T15:23:49.249097Z",
     "start_time": "2022-12-27T15:23:49.229094Z"
    }
   },
   "outputs": [
    {
     "data": {
      "text/plain": [
       "ham     4825\n",
       "spam     747\n",
       "Name: Category, dtype: int64"
      ]
     },
     "execution_count": 7,
     "metadata": {},
     "output_type": "execute_result"
    }
   ],
   "source": [
    "A = df['Category'].value_counts()\n",
    "A"
   ]
  },
  {
   "cell_type": "code",
   "execution_count": 65,
   "id": "8bfbadf9",
   "metadata": {
    "ExecuteTime": {
     "end_time": "2022-12-23T15:28:47.551232Z",
     "start_time": "2022-12-23T15:28:47.529231Z"
    }
   },
   "outputs": [],
   "source": [
    "df.replace([np.inf, -np.inf], np.nan, inplace=True)\n",
    "df.fillna(999, inplace=True)"
   ]
  },
  {
   "cell_type": "code",
   "execution_count": 58,
   "id": "816f06ad",
   "metadata": {
    "ExecuteTime": {
     "end_time": "2022-12-23T15:27:36.451773Z",
     "start_time": "2022-12-23T15:27:36.433773Z"
    }
   },
   "outputs": [],
   "source": [
    "def clean_dataset(df):\n",
    "    assert isinstance(df, pd.DataFrame), \"df needs to be a pd.DataFrame\"\n",
    "    df.dropna(inplace=True)\n",
    "    indices_to_keep = ~df.isin([np.nan, np.inf, -np.inf]).any(1)\n",
    "    return df[indices_to_keep].astype(np.float64)"
   ]
  },
  {
   "cell_type": "code",
   "execution_count": 49,
   "id": "d3206212",
   "metadata": {
    "ExecuteTime": {
     "end_time": "2022-12-23T15:25:46.735739Z",
     "start_time": "2022-12-23T15:25:46.720738Z"
    }
   },
   "outputs": [
    {
     "data": {
      "text/plain": [
       "False"
      ]
     },
     "execution_count": 49,
     "metadata": {},
     "output_type": "execute_result"
    }
   ],
   "source": [
    "np.isnan(df.any()) #and gets False\n",
    "np.isfinite(df.all()) #and gets True\n",
    "\n",
    "np.any(np.isnan(df))\n",
    "\n",
    "np.all(np.isfinite(df))"
   ]
  },
  {
   "cell_type": "code",
   "execution_count": 14,
   "id": "5b633c31",
   "metadata": {
    "ExecuteTime": {
     "end_time": "2022-12-27T15:25:32.487041Z",
     "start_time": "2022-12-27T15:25:32.462041Z"
    }
   },
   "outputs": [],
   "source": [
    "categorical_col = []\n",
    "for column in df.columns:\n",
    "    if df[column].dtype == object and len(df[column].unique()) <= 50:\n",
    "        categorical_col.append(column)\n",
    "        \n",
    "df['Message'] = df.Message.astype(\"category\").cat.codes"
   ]
  },
  {
   "cell_type": "code",
   "execution_count": 15,
   "id": "e36476c0",
   "metadata": {
    "ExecuteTime": {
     "end_time": "2022-12-27T15:25:35.416075Z",
     "start_time": "2022-12-27T15:25:35.396077Z"
    }
   },
   "outputs": [],
   "source": [
    "label = LabelEncoder()\n",
    "for column in categorical_col:\n",
    "    df[column] = label.fit_transform(df[column])"
   ]
  },
  {
   "cell_type": "code",
   "execution_count": 22,
   "id": "8e404c38",
   "metadata": {
    "ExecuteTime": {
     "end_time": "2022-12-27T15:26:12.872008Z",
     "start_time": "2022-12-27T15:26:12.860007Z"
    }
   },
   "outputs": [],
   "source": [
    "from sklearn.model_selection import train_test_split\n",
    "\n",
    "X = df.drop('Category', axis=1)\n",
    "y = df.Category\n",
    "\n",
    "X_train, X_test, y_train, y_test = train_test_split(X, y, test_size=0.3, random_state=42)"
   ]
  },
  {
   "cell_type": "code",
   "execution_count": 23,
   "id": "48877fe4",
   "metadata": {
    "ExecuteTime": {
     "end_time": "2022-12-27T15:26:14.792033Z",
     "start_time": "2022-12-27T15:26:14.780025Z"
    }
   },
   "outputs": [],
   "source": [
    "from sklearn.metrics import accuracy_score, confusion_matrix, classification_report\n",
    "\n",
    "def print_score(clf, X_train, y_train, X_test, y_test, train=True):\n",
    "    if train:\n",
    "        pred = clf.predict(X_train)\n",
    "        clf_report = pd.DataFrame(classification_report(y_train, pred, output_dict=True))\n",
    "        print(\"Train Result:\\n================================================\")\n",
    "        print(f\"Accuracy Score: {accuracy_score(y_train, pred) * 100:.2f}%\")\n",
    "        print(\"_______________________________________________\")\n",
    "        print(f\"CLASSIFICATION REPORT:\\n{clf_report}\")\n",
    "        print(\"_______________________________________________\")\n",
    "        print(f\"Confusion Matrix: \\n {confusion_matrix(y_train, pred)}\\n\")\n",
    "        \n",
    "    elif train==False:\n",
    "        pred = clf.predict(X_test)\n",
    "        clf_report = pd.DataFrame(classification_report(y_test, pred, output_dict=True))\n",
    "        print(\"Test Result:\\n================================================\")        \n",
    "        print(f\"Accuracy Score: {accuracy_score(y_test, pred) * 100:.2f}%\")\n",
    "        print(\"_______________________________________________\")\n",
    "        print(f\"CLASSIFICATION REPORT:\\n{clf_report}\")\n",
    "        print(\"_______________________________________________\")\n",
    "        print(f\"Confusion Matrix: \\n {confusion_matrix(y_test, pred)}\\n\")"
   ]
  },
  {
   "cell_type": "code",
   "execution_count": 24,
   "id": "4aa893be",
   "metadata": {
    "ExecuteTime": {
     "end_time": "2022-12-27T15:26:18.095001Z",
     "start_time": "2022-12-27T15:26:18.030003Z"
    }
   },
   "outputs": [
    {
     "name": "stdout",
     "output_type": "stream",
     "text": [
      "Train Result:\n",
      "================================================\n",
      "Accuracy Score: 100.00%\n",
      "_______________________________________________\n",
      "CLASSIFICATION REPORT:\n",
      "                0      1  accuracy  macro avg  weighted avg\n",
      "precision     1.0    1.0       1.0        1.0           1.0\n",
      "recall        1.0    1.0       1.0        1.0           1.0\n",
      "f1-score      1.0    1.0       1.0        1.0           1.0\n",
      "support    3377.0  523.0       1.0     3900.0        3900.0\n",
      "_______________________________________________\n",
      "Confusion Matrix: \n",
      " [[3377    0]\n",
      " [   0  523]]\n",
      "\n",
      "Test Result:\n",
      "================================================\n",
      "Accuracy Score: 90.25%\n",
      "_______________________________________________\n",
      "CLASSIFICATION REPORT:\n",
      "                     0           1  accuracy    macro avg  weighted avg\n",
      "precision     0.945253    0.633188  0.902512     0.789220      0.903445\n",
      "recall        0.941989    0.647321  0.902512     0.794655      0.902512\n",
      "f1-score      0.943618    0.640177  0.902512     0.791897      0.902966\n",
      "support    1448.000000  224.000000  0.902512  1672.000000   1672.000000\n",
      "_______________________________________________\n",
      "Confusion Matrix: \n",
      " [[1364   84]\n",
      " [  79  145]]\n",
      "\n"
     ]
    }
   ],
   "source": [
    "tree_clf = DecisionTreeClassifier(random_state=100)\n",
    "tree_clf.fit(X_train, y_train)\n",
    "\n",
    "print_score(tree_clf, X_train, y_train, X_test, y_test, train=True)\n",
    "print_score(tree_clf, X_train, y_train, X_test, y_test, train=False)"
   ]
  },
  {
   "cell_type": "code",
   "execution_count": 25,
   "id": "7c764605",
   "metadata": {
    "ExecuteTime": {
     "end_time": "2022-12-27T15:26:56.499084Z",
     "start_time": "2022-12-27T15:26:23.349078Z"
    }
   },
   "outputs": [
    {
     "name": "stdout",
     "output_type": "stream",
     "text": [
      "Fitting 3 folds for each of 4332 candidates, totalling 12996 fits\n",
      "Best paramters: {'criterion': 'entropy', 'max_depth': 16, 'min_samples_leaf': 1, 'min_samples_split': 3, 'splitter': 'best'})\n",
      "Train Result:\n",
      "================================================\n",
      "Accuracy Score: 98.82%\n",
      "_______________________________________________\n",
      "CLASSIFICATION REPORT:\n",
      "                     0           1  accuracy    macro avg  weighted avg\n",
      "precision     0.986846    0.997912  0.988205     0.992379      0.988330\n",
      "recall        0.999704    0.913958  0.988205     0.956831      0.988205\n",
      "f1-score      0.993233    0.954092  0.988205     0.973663      0.987984\n",
      "support    3377.000000  523.000000  0.988205  3900.000000   3900.000000\n",
      "_______________________________________________\n",
      "Confusion Matrix: \n",
      " [[3376    1]\n",
      " [  45  478]]\n",
      "\n",
      "Test Result:\n",
      "================================================\n",
      "Accuracy Score: 90.49%\n",
      "_______________________________________________\n",
      "CLASSIFICATION REPORT:\n",
      "                     0           1  accuracy    macro avg  weighted avg\n",
      "precision     0.939932    0.657005  0.904904     0.798468      0.902028\n",
      "recall        0.950967    0.607143  0.904904     0.779055      0.904904\n",
      "f1-score      0.945417    0.631090  0.904904     0.788254      0.903306\n",
      "support    1448.000000  224.000000  0.904904  1672.000000   1672.000000\n",
      "_______________________________________________\n",
      "Confusion Matrix: \n",
      " [[1377   71]\n",
      " [  88  136]]\n",
      "\n"
     ]
    }
   ],
   "source": [
    "from sklearn.tree import DecisionTreeClassifier\n",
    "from sklearn.model_selection import GridSearchCV\n",
    "\n",
    "params = {\n",
    "    \"criterion\":(\"gini\", \"entropy\"), \n",
    "    \"splitter\":(\"best\", \"random\"), \n",
    "    \"max_depth\":(list(range(1, 20))), \n",
    "    \"min_samples_split\":[2, 3, 4], \n",
    "    \"min_samples_leaf\":list(range(1, 20)), \n",
    "}\n",
    "\n",
    "\n",
    "tree_clf = DecisionTreeClassifier(random_state=42)\n",
    "tree_cv = GridSearchCV(tree_clf, params, scoring=\"accuracy\", n_jobs=-1, verbose=1, cv=3)\n",
    "tree_cv.fit(X_train, y_train)\n",
    "best_params = tree_cv.best_params_\n",
    "print(f\"Best paramters: {best_params})\")\n",
    "\n",
    "tree_clf = DecisionTreeClassifier(**best_params)\n",
    "tree_clf.fit(X_train, y_train)\n",
    "print_score(tree_clf, X_train, y_train, X_test, y_test, train=True)\n",
    "print_score(tree_clf, X_train, y_train, X_test, y_test, train=False)"
   ]
  },
  {
   "cell_type": "code",
   "execution_count": 81,
   "id": "c0f8568b",
   "metadata": {
    "ExecuteTime": {
     "end_time": "2022-12-23T15:33:52.847873Z",
     "start_time": "2022-12-23T15:33:52.576931Z"
    }
   },
   "outputs": [
    {
     "name": "stdout",
     "output_type": "stream",
     "text": [
      "Train Result:\n",
      "================================================\n",
      "Accuracy Score: 100.00%\n",
      "_______________________________________________\n",
      "CLASSIFICATION REPORT:\n",
      "               0      1  accuracy  macro avg  weighted avg\n",
      "precision    1.0    1.0       1.0        1.0           1.0\n",
      "recall       1.0    1.0       1.0        1.0           1.0\n",
      "f1-score     1.0    1.0       1.0        1.0           1.0\n",
      "support    183.0  247.0       1.0      430.0         430.0\n",
      "_______________________________________________\n",
      "Confusion Matrix: \n",
      " [[183   0]\n",
      " [  0 247]]\n",
      "\n",
      "Test Result:\n",
      "================================================\n",
      "Accuracy Score: 95.68%\n",
      "_______________________________________________\n",
      "CLASSIFICATION REPORT:\n",
      "                   0           1  accuracy   macro avg  weighted avg\n",
      "precision   0.943396    0.962121  0.956757    0.952759      0.956554\n",
      "recall      0.909091    0.976923  0.956757    0.943007      0.956757\n",
      "f1-score    0.925926    0.969466  0.956757    0.947696      0.956521\n",
      "support    55.000000  130.000000  0.956757  185.000000    185.000000\n",
      "_______________________________________________\n",
      "Confusion Matrix: \n",
      " [[ 50   5]\n",
      " [  3 127]]\n",
      "\n"
     ]
    }
   ],
   "source": [
    "from sklearn.ensemble import RandomForestClassifier\n",
    "\n",
    "rf_clf = RandomForestClassifier(n_estimators=100)\n",
    "rf_clf.fit(X_train, y_train)\n",
    "\n",
    "print_score(rf_clf, X_train, y_train, X_test, y_test, train=True)\n",
    "print_score(rf_clf, X_train, y_train, X_test, y_test, train=False)"
   ]
  },
  {
   "cell_type": "code",
   "execution_count": 26,
   "id": "3be41956",
   "metadata": {
    "ExecuteTime": {
     "end_time": "2022-12-27T15:35:15.720077Z",
     "start_time": "2022-12-27T15:26:56.509081Z"
    }
   },
   "outputs": [
    {
     "name": "stdout",
     "output_type": "stream",
     "text": [
      "Fitting 3 folds for each of 100 candidates, totalling 300 fits\n",
      "Best paramters: {'n_estimators': 600, 'min_samples_split': 5, 'min_samples_leaf': 1, 'max_features': 'auto', 'max_depth': 80, 'bootstrap': True})\n",
      "Train Result:\n",
      "================================================\n",
      "Accuracy Score: 98.44%\n",
      "_______________________________________________\n",
      "CLASSIFICATION REPORT:\n",
      "                     0           1  accuracy    macro avg  weighted avg\n",
      "precision     0.987074    0.965726  0.984359     0.976400      0.984211\n",
      "recall        0.994966    0.915870  0.984359     0.955418      0.984359\n",
      "f1-score      0.991004    0.940137  0.984359     0.965571      0.984183\n",
      "support    3377.000000  523.000000  0.984359  3900.000000   3900.000000\n",
      "_______________________________________________\n",
      "Confusion Matrix: \n",
      " [[3360   17]\n",
      " [  44  479]]\n",
      "\n",
      "Test Result:\n",
      "================================================\n",
      "Accuracy Score: 90.91%\n",
      "_______________________________________________\n",
      "CLASSIFICATION REPORT:\n",
      "                     0           1  accuracy    macro avg  weighted avg\n",
      "precision     0.944444    0.668224  0.909091     0.806334      0.907439\n",
      "recall        0.950967    0.638393  0.909091     0.794680      0.909091\n",
      "f1-score      0.947694    0.652968  0.909091     0.800331      0.908210\n",
      "support    1448.000000  224.000000  0.909091  1672.000000   1672.000000\n",
      "_______________________________________________\n",
      "Confusion Matrix: \n",
      " [[1377   71]\n",
      " [  81  143]]\n",
      "\n"
     ]
    }
   ],
   "source": [
    "from sklearn.ensemble import RandomForestClassifier\n",
    "from sklearn.model_selection import RandomizedSearchCV\n",
    "\n",
    "n_estimators = [int(x) for x in np.linspace(start=200, stop=2000, num=10)]\n",
    "max_features = ['auto', 'sqrt']\n",
    "max_depth = [int(x) for x in np.linspace(10, 110, num=11)]\n",
    "max_depth.append(None)\n",
    "min_samples_split = [2, 5, 10]\n",
    "min_samples_leaf = [1, 2, 4]\n",
    "bootstrap = [True, False]\n",
    "\n",
    "random_grid = {'n_estimators': n_estimators, 'max_features': max_features,\n",
    "               'max_depth': max_depth, 'min_samples_split': min_samples_split,\n",
    "               'min_samples_leaf': min_samples_leaf, 'bootstrap': bootstrap}\n",
    "\n",
    "rf_clf = RandomForestClassifier(random_state=42)\n",
    "\n",
    "rf_cv = RandomizedSearchCV(estimator=rf_clf, scoring='f1',param_distributions=random_grid, n_iter=100, cv=3, \n",
    "                               verbose=2, random_state=42, n_jobs=-1)\n",
    "\n",
    "rf_cv.fit(X_train, y_train)\n",
    "rf_best_params = rf_cv.best_params_\n",
    "print(f\"Best paramters: {rf_best_params})\")\n",
    "\n",
    "rf_clf = RandomForestClassifier(**rf_best_params)\n",
    "rf_clf.fit(X_train, y_train)\n",
    "\n",
    "print_score(rf_clf, X_train, y_train, X_test, y_test, train=True)\n",
    "print_score(rf_clf, X_train, y_train, X_test, y_test, train=False)"
   ]
  },
  {
   "cell_type": "code",
   "execution_count": 27,
   "id": "edb1dfc3",
   "metadata": {
    "ExecuteTime": {
     "end_time": "2022-12-27T16:09:24.320650Z",
     "start_time": "2022-12-27T15:35:31.933654Z"
    }
   },
   "outputs": [
    {
     "name": "stdout",
     "output_type": "stream",
     "text": [
      "Fitting 3 folds for each of 768 candidates, totalling 2304 fits\n",
      "Best parameters: {'bootstrap': True, 'max_depth': None, 'max_features': 'auto', 'min_samples_leaf': 1, 'min_samples_split': 5, 'n_estimators': 100}\n",
      "Train Result:\n",
      "================================================\n",
      "Accuracy Score: 98.44%\n",
      "_______________________________________________\n",
      "CLASSIFICATION REPORT:\n",
      "                     0           1  accuracy    macro avg  weighted avg\n",
      "precision     0.987360    0.963855  0.984359     0.975608      0.984208\n",
      "recall        0.994670    0.917782  0.984359     0.956226      0.984359\n",
      "f1-score      0.991002    0.940255  0.984359     0.965628      0.984196\n",
      "support    3377.000000  523.000000  0.984359  3900.000000   3900.000000\n",
      "_______________________________________________\n",
      "Confusion Matrix: \n",
      " [[3359   18]\n",
      " [  43  480]]\n",
      "\n",
      "Test Result:\n",
      "================================================\n",
      "Accuracy Score: 91.09%\n",
      "_______________________________________________\n",
      "CLASSIFICATION REPORT:\n",
      "                     0           1  accuracy    macro avg  weighted avg\n",
      "precision     0.945168    0.676056  0.910885     0.810612      0.909115\n",
      "recall        0.952348    0.642857  0.910885     0.797603      0.910885\n",
      "f1-score      0.948744    0.659039  0.910885     0.803892      0.909932\n",
      "support    1448.000000  224.000000  0.910885  1672.000000   1672.000000\n",
      "_______________________________________________\n",
      "Confusion Matrix: \n",
      " [[1379   69]\n",
      " [  80  144]]\n",
      "\n"
     ]
    }
   ],
   "source": [
    "n_estimators = [100, 500, 1000, 1500]\n",
    "max_features = ['auto', 'sqrt']\n",
    "max_depth = [2, 3, 5]\n",
    "max_depth.append(None)\n",
    "min_samples_split = [2, 5, 10]\n",
    "min_samples_leaf = [1, 2, 4, 10]\n",
    "bootstrap = [True, False]\n",
    "\n",
    "params_grid = {'n_estimators': n_estimators, 'max_features': max_features,\n",
    "               'max_depth': max_depth, 'min_samples_split': min_samples_split,\n",
    "               'min_samples_leaf': min_samples_leaf, 'bootstrap': bootstrap}\n",
    "\n",
    "rf_clf = RandomForestClassifier(random_state=42)\n",
    "\n",
    "rf_cv = GridSearchCV(rf_clf, params_grid, scoring=\"f1\", cv=3, verbose=2, n_jobs=-1)\n",
    "\n",
    "\n",
    "rf_cv.fit(X_train, y_train)\n",
    "best_params = rf_cv.best_params_\n",
    "print(f\"Best parameters: {best_params}\")\n",
    "\n",
    "rf_clf = RandomForestClassifier(**best_params)\n",
    "rf_clf.fit(X_train, y_train)\n",
    "\n",
    "print_score(rf_clf, X_train, y_train, X_test, y_test, train=True)\n",
    "print_score(rf_clf, X_train, y_train, X_test, y_test, train=False)"
   ]
  },
  {
   "cell_type": "code",
   "execution_count": 28,
   "id": "e1d82e7e",
   "metadata": {
    "ExecuteTime": {
     "end_time": "2022-12-27T16:16:19.121904Z",
     "start_time": "2022-12-27T16:16:19.103836Z"
    }
   },
   "outputs": [],
   "source": [
    "from sklearn.model_selection import train_test_split\n",
    "X_train, X_test, y_train, y_test = train_test_split(X, y, test_size= 0.2)"
   ]
  },
  {
   "cell_type": "code",
   "execution_count": 29,
   "id": "7bb89ac5",
   "metadata": {
    "ExecuteTime": {
     "end_time": "2022-12-27T16:16:21.776103Z",
     "start_time": "2022-12-27T16:16:21.740104Z"
    }
   },
   "outputs": [
    {
     "data": {
      "text/plain": [
       "DecisionTreeClassifier(random_state=42)"
      ]
     },
     "execution_count": 29,
     "metadata": {},
     "output_type": "execute_result"
    }
   ],
   "source": [
    "from sklearn.tree import DecisionTreeClassifier\n",
    "tr = DecisionTreeClassifier(random_state= 42)\n",
    "tr.fit(X_train, y_train) "
   ]
  },
  {
   "cell_type": "code",
   "execution_count": 30,
   "id": "6f05c907",
   "metadata": {
    "ExecuteTime": {
     "end_time": "2022-12-27T16:16:24.242110Z",
     "start_time": "2022-12-27T16:16:24.228111Z"
    }
   },
   "outputs": [
    {
     "data": {
      "text/plain": [
       "100.0"
      ]
     },
     "execution_count": 30,
     "metadata": {},
     "output_type": "execute_result"
    }
   ],
   "source": [
    "tr.score(X_train, y_train)*100"
   ]
  },
  {
   "cell_type": "code",
   "execution_count": 31,
   "id": "c43fbf52",
   "metadata": {
    "ExecuteTime": {
     "end_time": "2022-12-27T16:16:26.947637Z",
     "start_time": "2022-12-27T16:16:26.931591Z"
    }
   },
   "outputs": [
    {
     "data": {
      "text/plain": [
       "92.37668161434978"
      ]
     },
     "execution_count": 31,
     "metadata": {},
     "output_type": "execute_result"
    }
   ],
   "source": [
    "y_pred = tr.predict(X_test)\n",
    "accuracy_score(y_pred, y_test)*100"
   ]
  },
  {
   "cell_type": "code",
   "execution_count": 32,
   "id": "e96d9a78",
   "metadata": {
    "ExecuteTime": {
     "end_time": "2022-12-27T16:18:05.690950Z",
     "start_time": "2022-12-27T16:16:30.340041Z"
    }
   },
   "outputs": [
    {
     "data": {
      "text/plain": [
       "SVC(kernel='linear')"
      ]
     },
     "execution_count": 32,
     "metadata": {},
     "output_type": "execute_result"
    }
   ],
   "source": [
    "tr = SVC(C = 1.0, kernel = 'linear')\n",
    "tr.fit(X_train, y_train)"
   ]
  },
  {
   "cell_type": "code",
   "execution_count": 33,
   "id": "c5c81abd",
   "metadata": {
    "ExecuteTime": {
     "end_time": "2022-12-27T17:07:17.998561Z",
     "start_time": "2022-12-27T17:07:17.940557Z"
    }
   },
   "outputs": [
    {
     "data": {
      "text/plain": [
       "84.75336322869956"
      ]
     },
     "execution_count": 33,
     "metadata": {},
     "output_type": "execute_result"
    }
   ],
   "source": [
    "y_pred = tr.predict(X_test)\n",
    "accuracy_score(y_pred, y_test)*100"
   ]
  },
  {
   "cell_type": "code",
   "execution_count": 34,
   "id": "f2542e32",
   "metadata": {
    "ExecuteTime": {
     "end_time": "2022-12-27T17:07:21.610177Z",
     "start_time": "2022-12-27T17:07:21.556181Z"
    }
   },
   "outputs": [
    {
     "data": {
      "text/plain": [
       "LogisticRegression()"
      ]
     },
     "execution_count": 34,
     "metadata": {},
     "output_type": "execute_result"
    }
   ],
   "source": [
    "lr = LogisticRegression()\n",
    "lr.fit(X_train, y_train)"
   ]
  },
  {
   "cell_type": "code",
   "execution_count": 35,
   "id": "e7e3a3de",
   "metadata": {
    "ExecuteTime": {
     "end_time": "2022-12-27T17:36:05.534920Z",
     "start_time": "2022-12-27T17:36:05.514821Z"
    }
   },
   "outputs": [
    {
     "data": {
      "text/plain": [
       "86.54708520179372"
      ]
     },
     "execution_count": 35,
     "metadata": {},
     "output_type": "execute_result"
    }
   ],
   "source": [
    "y_pred = lr.predict(X_test)\n",
    "accuracy_score(y_pred, y_test)*100"
   ]
  },
  {
   "cell_type": "code",
   "execution_count": 36,
   "id": "4866e0fc",
   "metadata": {
    "ExecuteTime": {
     "end_time": "2022-12-27T17:36:20.244961Z",
     "start_time": "2022-12-27T17:36:20.194961Z"
    }
   },
   "outputs": [
    {
     "data": {
      "text/plain": [
       "KNeighborsClassifier(n_neighbors=10)"
      ]
     },
     "execution_count": 36,
     "metadata": {},
     "output_type": "execute_result"
    }
   ],
   "source": [
    "ac = neighbors.KNeighborsClassifier(n_neighbors=10)\n",
    "ac.fit(X_train, y_train) "
   ]
  },
  {
   "cell_type": "code",
   "execution_count": 37,
   "id": "f002ebda",
   "metadata": {
    "ExecuteTime": {
     "end_time": "2022-12-27T17:36:23.575582Z",
     "start_time": "2022-12-27T17:36:23.488581Z"
    }
   },
   "outputs": [
    {
     "name": "stderr",
     "output_type": "stream",
     "text": [
      "D:\\Programs\\A\\lib\\site-packages\\sklearn\\neighbors\\_classification.py:228: FutureWarning: Unlike other reduction functions (e.g. `skew`, `kurtosis`), the default behavior of `mode` typically preserves the axis it acts along. In SciPy 1.11.0, this behavior will change: the default value of `keepdims` will become False, the `axis` over which the statistic is taken will be eliminated, and the value None will no longer be accepted. Set `keepdims` to True or False to avoid this warning.\n",
      "  mode, _ = stats.mode(_y[neigh_ind, k], axis=1)\n"
     ]
    },
    {
     "data": {
      "text/plain": [
       "90.85201793721973"
      ]
     },
     "execution_count": 37,
     "metadata": {},
     "output_type": "execute_result"
    }
   ],
   "source": [
    "y_pred = ac.predict(X_test)\n",
    "accuracy_score(y_pred, y_test)*100"
   ]
  },
  {
   "cell_type": "code",
   "execution_count": 38,
   "id": "3c13846e",
   "metadata": {
    "ExecuteTime": {
     "end_time": "2022-12-27T17:36:26.992465Z",
     "start_time": "2022-12-27T17:36:26.953454Z"
    }
   },
   "outputs": [
    {
     "data": {
      "text/plain": [
       "RandomForestClassifier(n_estimators=2)"
      ]
     },
     "execution_count": 38,
     "metadata": {},
     "output_type": "execute_result"
    }
   ],
   "source": [
    "rf = RandomForestClassifier(n_estimators=2)\n",
    "rf.fit(X_train, y_train)"
   ]
  },
  {
   "cell_type": "code",
   "execution_count": 39,
   "id": "044f2f21",
   "metadata": {
    "ExecuteTime": {
     "end_time": "2022-12-27T17:36:29.390458Z",
     "start_time": "2022-12-27T17:36:29.377460Z"
    }
   },
   "outputs": [
    {
     "data": {
      "text/plain": [
       "91.92825112107623"
      ]
     },
     "execution_count": 39,
     "metadata": {},
     "output_type": "execute_result"
    }
   ],
   "source": [
    "y_pred = rf.predict(X_test)\n",
    "accuracy_score(y_pred, y_test)*100"
   ]
  },
  {
   "cell_type": "code",
   "execution_count": 40,
   "id": "a2386b1a",
   "metadata": {
    "ExecuteTime": {
     "end_time": "2022-12-27T19:14:13.757929Z",
     "start_time": "2022-12-27T17:36:32.592410Z"
    }
   },
   "outputs": [
    {
     "data": {
      "text/plain": [
       "83.56029162886173"
      ]
     },
     "execution_count": 40,
     "metadata": {},
     "output_type": "execute_result"
    }
   ],
   "source": [
    "score = cross_val_score(tr, X, y, cv = 10)\n",
    "score.mean()*100"
   ]
  },
  {
   "cell_type": "code",
   "execution_count": 41,
   "id": "624eaed3",
   "metadata": {
    "ExecuteTime": {
     "end_time": "2022-12-27T19:15:40.674187Z",
     "start_time": "2022-12-27T19:15:40.344189Z"
    }
   },
   "outputs": [
    {
     "data": {
      "text/plain": [
       "6.593406593406594"
      ]
     },
     "execution_count": 41,
     "metadata": {},
     "output_type": "execute_result"
    },
    {
     "data": {
      "image/png": "[encoded data removed]",
      "text/plain": [
       "<Figure size 640x480 with 2 Axes>"
      ]
     },
     "metadata": {},
     "output_type": "display_data"
    }
   ],
   "source": [
    "sns.heatmap(confusion_matrix(rf.predict(X_test), y_test),annot=True)\n",
    "f1_score(tr.predict(X_test), y_test)*100"
   ]
  },
  {
   "cell_type": "code",
   "execution_count": 3,
   "id": "89b1a2eb",
   "metadata": {
    "ExecuteTime": {
     "end_time": "2022-12-28T11:09:23.300146Z",
     "start_time": "2022-12-28T11:09:23.279044Z"
    }
   },
   "outputs": [],
   "source": [
    "df.loc[df['Category'] == 'spam' , 'Category' ] = 0 \n",
    "df.loc[df['Category'] == 'ham' , 'Category' ] = 1"
   ]
  },
  {
   "cell_type": "code",
   "execution_count": 4,
   "id": "93f0e5ac",
   "metadata": {
    "ExecuteTime": {
     "end_time": "2022-12-28T11:09:56.164216Z",
     "start_time": "2022-12-28T11:09:56.143117Z"
    }
   },
   "outputs": [],
   "source": [
    "X = df['Message']\n",
    "y = df['Category']"
   ]
  },
  {
   "cell_type": "code",
   "execution_count": 5,
   "id": "6d3343de",
   "metadata": {
    "ExecuteTime": {
     "end_time": "2022-12-28T11:10:20.438353Z",
     "start_time": "2022-12-28T11:10:20.415350Z"
    }
   },
   "outputs": [],
   "source": [
    "X_train , X_test , y_train , y_test = train_test_split(X, y ,train_size = 0.2 , shuffle=True , random_state=3) "
   ]
  },
  {
   "cell_type": "code",
   "execution_count": 6,
   "id": "0724afbe",
   "metadata": {
    "ExecuteTime": {
     "end_time": "2022-12-28T11:10:30.903096Z",
     "start_time": "2022-12-28T11:10:30.887094Z"
    }
   },
   "outputs": [
    {
     "name": "stdout",
     "output_type": "stream",
     "text": [
      "(5572,)\n",
      "(1114,)\n",
      "(4458,)\n"
     ]
    }
   ],
   "source": [
    "print(X.shape)\n",
    "print(X_train.shape)\n",
    "print(X_test.shape)"
   ]
  },
  {
   "cell_type": "code",
   "execution_count": 7,
   "id": "8ace7a2a",
   "metadata": {
    "ExecuteTime": {
     "end_time": "2022-12-28T11:10:51.871531Z",
     "start_time": "2022-12-28T11:10:51.679089Z"
    }
   },
   "outputs": [],
   "source": [
    "feature_extraction = TfidfVectorizer(min_df = 1, stop_words='english', lowercase='True')\n",
    "\n",
    "\n",
    "X_train_features = feature_extraction.fit_transform(X_train)\n",
    "X_test_features = feature_extraction.transform(X_test)\n",
    " \n",
    "\n",
    "y_train = y_train.astype('int')\n",
    "y_test = y_test.astype('int')\n"
   ]
  },
  {
   "cell_type": "code",
   "execution_count": 8,
   "id": "46185535",
   "metadata": {
    "ExecuteTime": {
     "end_time": "2022-12-28T11:11:16.224628Z",
     "start_time": "2022-12-28T11:11:16.111627Z"
    }
   },
   "outputs": [
    {
     "data": {
      "text/plain": [
       "LogisticRegression()"
      ]
     },
     "execution_count": 8,
     "metadata": {},
     "output_type": "execute_result"
    }
   ],
   "source": [
    "model = LogisticRegression()\n",
    "model.fit(X_train_features , y_train) "
   ]
  },
  {
   "cell_type": "code",
   "execution_count": 10,
   "id": "60c50ffd",
   "metadata": {
    "ExecuteTime": {
     "end_time": "2022-12-28T11:11:43.691482Z",
     "start_time": "2022-12-28T11:11:43.671896Z"
    }
   },
   "outputs": [
    {
     "name": "stdout",
     "output_type": "stream",
     "text": [
      "91.65170556552962 %\n"
     ]
    }
   ],
   "source": [
    "model_training_prediction = model.predict(X_train_features)\n",
    "train_accuracy = accuracy_score(  y_train  , model_training_prediction  )\n",
    "print (str(train_accuracy * 100 ) + ' %')"
   ]
  },
  {
   "cell_type": "code",
   "execution_count": 12,
   "id": "28045828",
   "metadata": {
    "ExecuteTime": {
     "end_time": "2022-12-28T11:12:04.246333Z",
     "start_time": "2022-12-28T11:12:04.231335Z"
    }
   },
   "outputs": [
    {
     "name": "stdout",
     "output_type": "stream",
     "text": [
      "90.42171377299238 %\n"
     ]
    }
   ],
   "source": [
    "model_testing_prediction = model.predict(X_test_features)\n",
    "test_accuracy = accuracy_score(  y_test , model_testing_prediction  )\n",
    "print ( str(test_accuracy * 100 ) + ' %')"
   ]
  },
  {
   "cell_type": "code",
   "execution_count": 14,
   "id": "dc1f9c42",
   "metadata": {
    "ExecuteTime": {
     "end_time": "2022-12-28T11:12:58.816675Z",
     "start_time": "2022-12-28T11:12:58.799565Z"
    }
   },
   "outputs": [
    {
     "name": "stdout",
     "output_type": "stream",
     "text": [
      "Ham mail\n"
     ]
    }
   ],
   "source": [
    "input_mail = [\"I've been searching for the right words to thank you for this breather. I promise i wont take your help for granted and will fulfil my promise. You have been wonderful and a blessing at all times\"]\n",
    "\n",
    "input_data_features = feature_extraction.transform(input_mail) \n",
    "\n",
    "\n",
    "prediction = model.predict(input_data_features)\n",
    "\n",
    "if (prediction[0]==1):\n",
    "  print('Ham mail')\n",
    "\n",
    "else:\n",
    "  print('Spam mail')"
   ]
  },
  {
   "cell_type": "code",
   "execution_count": null,
   "id": "021ca17d",
   "metadata": {},
   "outputs": [],
   "source": []
  }
 ],
 "metadata": {
  "kernelspec": {
   "display_name": "Python 3 (ipykernel)",
   "language": "python",
   "name": "python3"
  },
  "language_info": {
   "codemirror_mode": {
    "name": "ipython",
    "version": 3
   },
   "file_extension": ".py",
   "mimetype": "text/x-python",
   "name": "python",
   "nbconvert_exporter": "python",
   "pygments_lexer": "ipython3",
   "version": "3.9.13"
  },
  "nbTranslate": {
   "displayLangs": [
    "*"
   ],
   "hotkey": "alt-t",
   "langInMainMenu": true,
   "sourceLang": "en",
   "targetLang": "fr",
   "useGoogleTranslate": true
  }
 },
 "nbformat": 4,
 "nbformat_minor": 5
}
